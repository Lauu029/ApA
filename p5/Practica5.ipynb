{
 "cells": [
  {
   "cell_type": "code",
   "execution_count": 1,
   "id": "215cca47",
   "metadata": {},
   "outputs": [],
   "source": [
    "import utils as utils\n",
    "import ann as ann\n",
    "import numpy as np\n",
    "from scipy.io import loadmat, savemat\n",
    "import sklearn.metrics as sk\n",
    "from sklearn.preprocessing import OneHotEncoder"
   ]
  },
  {
   "cell_type": "markdown",
   "id": "01343b1c",
   "metadata": {},
   "source": [
    "## Back propagation"
   ]
  },
  {
   "cell_type": "code",
   "execution_count": 2,
   "id": "d60c6666",
   "metadata": {},
   "outputs": [],
   "source": [
    "data = loadmat('data/ex3data1.mat', squeeze_me=True)\n",
    "y = data['y']\n",
    "X = data['X']"
   ]
  },
  {
   "cell_type": "code",
   "execution_count": 3,
   "id": "6453bd00",
   "metadata": {
    "scrolled": false
   },
   "outputs": [],
   "source": [
    "#utils.displayData(X)"
   ]
  },
  {
   "cell_type": "code",
   "execution_count": 4,
   "id": "833992c7",
   "metadata": {},
   "outputs": [
    {
     "name": "stdout",
     "output_type": "stream",
     "text": [
      "(5000, 10)\n"
     ]
    }
   ],
   "source": [
    "weights = loadmat('data/ex3weights.mat')\n",
    "theta1, theta2 = weights['Theta1'], weights['Theta2']\n",
    "\n",
    "encoder = OneHotEncoder(sparse_output=False)\n",
    "\n",
    "y = y.reshape(-1, 1)\n",
    "y = encoder.fit_transform(y)\n",
    "\n",
    "print(y.shape)"
   ]
  },
  {
   "cell_type": "markdown",
   "id": "e41692ac",
   "metadata": {},
   "source": [
    "## Ejercicio 1: Compute cost"
   ]
  },
  {
   "cell_type": "code",
   "execution_count": 5,
   "id": "f7e7d944",
   "metadata": {},
   "outputs": [
    {
     "name": "stdout",
     "output_type": "stream",
     "text": [
      "Coste esperado: 0,287629\n",
      "Coste de la red: 0.2876291651613189\n"
     ]
    }
   ],
   "source": [
    "print(\"Coste esperado: 0,287629\")\n",
    "J = ann.cost(theta1, theta2, X, y)\n",
    "print(\"Coste de la red:\",J)"
   ]
  },
  {
   "cell_type": "code",
   "execution_count": 6,
   "id": "58e5eb84",
   "metadata": {
    "scrolled": true
   },
   "outputs": [
    {
     "name": "stdout",
     "output_type": "stream",
     "text": [
      "Coste regularizado esperado:  0,383770\n",
      "Coste regularizado de la red: 0.38376985909092365\n"
     ]
    }
   ],
   "source": [
    "print(\"Coste regularizado esperado:  0,383770\")\n",
    "JL2 = ann.reg_cost(theta1,theta2,X,y,1)\n",
    "print(\"Coste regularizado de la red:\",JL2)"
   ]
  },
  {
   "cell_type": "markdown",
   "id": "8e3b9ee2",
   "metadata": {},
   "source": [
    "## Ejercicio 2: Back propagation"
   ]
  },
  {
   "cell_type": "code",
   "execution_count": 7,
   "id": "620e7c00",
   "metadata": {},
   "outputs": [
    {
     "name": "stdout",
     "output_type": "stream",
     "text": [
      "If your backpropagation implementation is correct, then \n",
      "the relative difference will be small (less than 1e-9). \n",
      "Relative Difference: 2.29872e-11\n"
     ]
    }
   ],
   "source": [
    "utils.checkNNGradients(ann.backprop)"
   ]
  },
  {
   "cell_type": "markdown",
   "id": "0a968b3c",
   "metadata": {},
   "source": [
    "## Ejercicio 3: Aprendizaje de los parámetros:"
   ]
  },
  {
   "cell_type": "code",
   "execution_count": 8,
   "id": "1ae4ad49",
   "metadata": {
    "scrolled": true
   },
   "outputs": [],
   "source": [
    "theta1_trained,theta2_trained=ann.gradientdescent(theta1, theta2, X, y, 1, 1000, 1)"
   ]
  },
  {
   "cell_type": "code",
   "execution_count": 2,
   "id": "f4498752",
   "metadata": {},
   "outputs": [
    {
     "ename": "NameError",
     "evalue": "name 'ann' is not defined",
     "output_type": "error",
     "traceback": [
      "\u001b[1;31m---------------------------------------------------------------------------\u001b[0m",
      "\u001b[1;31mNameError\u001b[0m                                 Traceback (most recent call last)",
      "Cell \u001b[1;32mIn[2], line 2\u001b[0m\n\u001b[0;32m      1\u001b[0m acuracy\u001b[38;5;241m=\u001b[39m\u001b[38;5;241m0\u001b[39m\n\u001b[1;32m----> 2\u001b[0m z2,a1,a2, p \u001b[38;5;241m=\u001b[39m ann\u001b[38;5;241m.\u001b[39mFeedForward(theta1_trained, theta2_trained, X)\n\u001b[0;32m      3\u001b[0m y \u001b[38;5;241m=\u001b[39m data[\u001b[38;5;124m'\u001b[39m\u001b[38;5;124my\u001b[39m\u001b[38;5;124m'\u001b[39m]\n\u001b[0;32m      4\u001b[0m maximo\u001b[38;5;241m=\u001b[39m ann\u001b[38;5;241m.\u001b[39mpredict(p)\n",
      "\u001b[1;31mNameError\u001b[0m: name 'ann' is not defined"
     ]
    }
   ],
   "source": [
    "acuracy=0\n",
    "z2,a1,a2, p = ann.FeedForward(theta1_trained, theta2_trained, X)\n",
    "y = data['y']\n",
    "maximo= ann.predict(p)\n",
    "for i in range(len(y)):\n",
    "    if maximo[i] == y[i]:\n",
    "        acuracy = acuracy + 1\n",
    "acuracy = acuracy/y.size *100 \n",
    "print (acuracy,\"%\")"
   ]
  },
  {
   "cell_type": "code",
   "execution_count": null,
   "id": "b0cb4ea8",
   "metadata": {},
   "outputs": [],
   "source": []
  }
 ],
 "metadata": {
  "kernelspec": {
   "display_name": "Python 3 (ipykernel)",
   "language": "python",
   "name": "python3"
  },
  "language_info": {
   "codemirror_mode": {
    "name": "ipython",
    "version": 3
   },
   "file_extension": ".py",
   "mimetype": "text/x-python",
   "name": "python",
   "nbconvert_exporter": "python",
   "pygments_lexer": "ipython3",
   "version": "3.11.4"
  }
 },
 "nbformat": 4,
 "nbformat_minor": 5
}
