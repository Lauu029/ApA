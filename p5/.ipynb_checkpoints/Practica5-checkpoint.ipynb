{
 "cells": [
  {
   "cell_type": "code",
   "execution_count": 1,
   "id": "215cca47",
   "metadata": {},
   "outputs": [],
   "source": [
    "import utils as utils\n",
    "import ann as ann\n",
    "import numpy as np\n",
    "from scipy.io import loadmat, savemat\n",
    "import sklearn.metrics as sk\n",
    "from sklearn.preprocessing import OneHotEncoder"
   ]
  },
  {
   "cell_type": "markdown",
   "id": "01343b1c",
   "metadata": {},
   "source": [
    "## Back propagation"
   ]
  },
  {
   "cell_type": "code",
   "execution_count": 2,
   "id": "d60c6666",
   "metadata": {},
   "outputs": [],
   "source": [
    "data = loadmat('data/ex3data1.mat', squeeze_me=True)\n",
    "y = data['y']\n",
    "X = data['X']"
   ]
  },
  {
   "cell_type": "code",
   "execution_count": 3,
   "id": "6453bd00",
   "metadata": {
    "scrolled": false
   },
   "outputs": [],
   "source": [
    "#utils.displayData(X)"
   ]
  },
  {
   "cell_type": "code",
   "execution_count": 4,
   "id": "833992c7",
   "metadata": {},
   "outputs": [
    {
     "name": "stdout",
     "output_type": "stream",
     "text": [
      "(5000, 10)\n"
     ]
    }
   ],
   "source": [
    "weights = loadmat('data/ex3weights.mat')\n",
    "theta1, theta2 = weights['Theta1'], weights['Theta2']\n",
    "\n",
    "encoder = OneHotEncoder(sparse_output=False)\n",
    "\n",
    "y = y.reshape(-1, 1)\n",
    "y = encoder.fit_transform(y)\n",
    "\n",
    "print(y.shape)"
   ]
  },
  {
   "cell_type": "markdown",
   "id": "e41692ac",
   "metadata": {},
   "source": [
    "## Ejercicio 1: Compute cost"
   ]
  },
  {
   "cell_type": "code",
   "execution_count": 5,
   "id": "f7e7d944",
   "metadata": {},
   "outputs": [
    {
     "name": "stdout",
     "output_type": "stream",
     "text": [
      "Coste esperado: 0,287629\n",
      "Coste de la red: 0.2876291651613189\n"
     ]
    }
   ],
   "source": [
    "print(\"Coste esperado: 0,287629\")\n",
    "J = ann.cost(theta1, theta2, X, y)\n",
    "print(\"Coste de la red:\",J)"
   ]
  },
  {
   "cell_type": "code",
   "execution_count": 6,
   "id": "58e5eb84",
   "metadata": {
    "scrolled": true
   },
   "outputs": [
    {
     "name": "stdout",
     "output_type": "stream",
     "text": [
      "Coste regularizado esperado:  0,383770\n",
      "Coste regularizado de la red: 0.38376985909092365\n"
     ]
    }
   ],
   "source": [
    "print(\"Coste regularizado esperado:  0,383770\")\n",
    "JL2 = ann.reg_cost(theta1,theta2,X,y,1)\n",
    "print(\"Coste regularizado de la red:\",JL2)"
   ]
  },
  {
   "cell_type": "markdown",
   "id": "8e3b9ee2",
   "metadata": {},
   "source": [
    "## Ejercicio 2: Back propagation"
   ]
  },
  {
   "cell_type": "code",
   "execution_count": 7,
   "id": "620e7c00",
   "metadata": {},
   "outputs": [
    {
     "name": "stdout",
     "output_type": "stream",
     "text": [
      "If your backpropagation implementation is correct, then \n",
      "the relative difference will be small (less than 1e-9). \n",
      "Relative Difference: 2.29872e-11\n"
     ]
    }
   ],
   "source": [
    "utils.checkNNGradients(ann.backprop)"
   ]
  },
  {
   "cell_type": "code",
   "execution_count": null,
   "id": "8ac959f2",
   "metadata": {},
   "outputs": [],
   "source": []
  }
 ],
 "metadata": {
  "kernelspec": {
   "display_name": "Python 3 (ipykernel)",
   "language": "python",
   "name": "python3"
  },
  "language_info": {
   "codemirror_mode": {
    "name": "ipython",
    "version": 3
   },
   "file_extension": ".py",
   "mimetype": "text/x-python",
   "name": "python",
   "nbconvert_exporter": "python",
   "pygments_lexer": "ipython3",
   "version": "3.11.4"
  }
 },
 "nbformat": 4,
 "nbformat_minor": 5
}
