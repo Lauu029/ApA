{
 "cells": [
  {
   "cell_type": "code",
   "execution_count": 1,
   "id": "215cca47",
   "metadata": {},
   "outputs": [],
   "source": [
    "import utils as utils\n",
    "import ann as ann\n",
    "import numpy as np\n",
    "from scipy.io import loadmat, savemat\n",
    "import sklearn.metrics as sk\n",
    "from sklearn.preprocessing import OneHotEncoder"
   ]
  },
  {
   "cell_type": "markdown",
   "id": "01343b1c",
   "metadata": {},
   "source": [
    "## Back propagation"
   ]
  },
  {
   "cell_type": "code",
   "execution_count": 2,
   "id": "d60c6666",
   "metadata": {},
   "outputs": [],
   "source": [
    "data = loadmat('data/ex3data1.mat', squeeze_me=True)\n",
    "y = data['y']\n",
    "X = data['X']"
   ]
  },
  {
   "cell_type": "code",
   "execution_count": 3,
   "id": "6453bd00",
   "metadata": {
    "scrolled": false
   },
   "outputs": [],
   "source": [
    "#utils.displayData(X)"
   ]
  },
  {
   "cell_type": "code",
   "execution_count": 4,
   "id": "833992c7",
   "metadata": {},
   "outputs": [],
   "source": [
    "weights = loadmat('data/ex3weights.mat')\n",
    "theta1, theta2 = weights['Theta1'], weights['Theta2']\n",
    "\n",
    "encoder = OneHotEncoder(sparse_output=False)\n",
    "\n",
    "y = y.reshape(-1, 1)\n",
    "one_hot_result = encoder.fit_transform(y)\n"
   ]
  },
  {
   "cell_type": "markdown",
   "id": "e41692ac",
   "metadata": {},
   "source": [
    "## Ejercicio 1: Compute cost"
   ]
  },
  {
   "cell_type": "code",
   "execution_count": null,
   "id": "f7e7d944",
   "metadata": {},
   "outputs": [],
   "source": []
  }
 ],
 "metadata": {
  "kernelspec": {
   "display_name": "Python 3 (ipykernel)",
   "language": "python",
   "name": "python3"
  },
  "language_info": {
   "codemirror_mode": {
    "name": "ipython",
    "version": 3
   },
   "file_extension": ".py",
   "mimetype": "text/x-python",
   "name": "python",
   "nbconvert_exporter": "python",
   "pygments_lexer": "ipython3",
   "version": "3.11.4"
  }
 },
 "nbformat": 4,
 "nbformat_minor": 5
}
